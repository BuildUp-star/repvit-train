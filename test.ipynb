{
 "cells": [
  {
   "cell_type": "code",
   "execution_count": 4,
   "id": "7c06cdf2-c21d-4a71-83f0-1d586c69efdd",
   "metadata": {},
   "outputs": [
    {
     "name": "stdout",
     "output_type": "stream",
     "text": [
      "pred class id: 799\n"
     ]
    }
   ],
   "source": [
    "import torch, timm\n",
    "from PIL import Image\n",
    "from timm.data import resolve_data_config\n",
    "from timm.data.transforms_factory import create_transform\n",
    "\n",
    "model_name = \"repvit_m1_0\"  # 或 \"repvit_m1\" / \"repvit_m2_3\" / \"repvit_m3\" 等\n",
    "model = timm.create_model(model_name, pretrained=True).eval()\n",
    "model.eval()\n",
    "\n",
    "# 准备预处理（自动匹配模型输入尺寸/均值方差等）\n",
    "config = resolve_data_config({}, model=model)\n",
    "transform = create_transform(**config)\n",
    "\n",
    "img = Image.open(\"home/000/000.png\").convert(\"RGB\")\n",
    "x = transform(img).unsqueeze(0)   # [1,3,H,W]\n",
    "\n",
    "with torch.no_grad():\n",
    "    logits = model(x)             # 分类 logits\n",
    "    pred = logits.argmax(dim=1).item()\n",
    "print(\"pred class id:\", pred)\n"
   ]
  },
  {
   "cell_type": "code",
   "execution_count": 7,
   "id": "c1ed07d2-dfb4-4520-99f7-d2bf4819aac3",
   "metadata": {},
   "outputs": [
    {
     "name": "stdout",
     "output_type": "stream",
     "text": [
      "device: cpu\n",
      "pred class id: 904\n",
      "input size: (1, 3, 224, 224)\n",
      "avg latency: 54.613 ms  |  FPS: 18.31\n"
     ]
    }
   ],
   "source": [
    "import time\n",
    "import torch, timm\n",
    "from PIL import Image\n",
    "from timm.data import resolve_data_config\n",
    "from timm.data.transforms_factory import create_transform\n",
    "import torch.nn.functional as F\n",
    "\n",
    "# -------- device 选择（CUDA > MPS > CPU）---------\n",
    "if torch.cuda.is_available():\n",
    "    device = torch.device(\"cuda\")\n",
    "elif hasattr(torch.backends, \"mps\") and torch.backends.mps.is_available():\n",
    "    device = torch.device(\"mps\")\n",
    "else:\n",
    "    device = torch.device(\"cpu\")\n",
    "print(\"device:\", device)\n",
    "\n",
    "torch.backends.cudnn.benchmark = True  # 有助于加速卷积\n",
    "\n",
    "# -------- 模型 & 预处理 ----------\n",
    "model_name = \"repvit_m1_0\"\n",
    "model = timm.create_model(model_name, pretrained=True).eval().to(device)\n",
    "\n",
    "config = resolve_data_config({}, model=model)\n",
    "transform = create_transform(**config)\n",
    "\n",
    "# 注意：路径前面少了 \"/\" 的话可能找不到文件；改成你的真实路径\n",
    "img = Image.open(\"home/000/001.png\").convert(\"RGB\")\n",
    "x = transform(img).unsqueeze(0).to(device)\n",
    "\n",
    "# -------- 预热（避免首轮 JIT / cuDNN 选择影响）---------\n",
    "warmup = 10\n",
    "with torch.inference_mode():\n",
    "    for _ in range(warmup):\n",
    "        _ = model(x)\n",
    "        if device.type == \"cuda\":\n",
    "            torch.cuda.synchronize()\n",
    "\n",
    "# -------- 正式计时 ----------\n",
    "runs = 50\n",
    "start = time.perf_counter()\n",
    "with torch.inference_mode():\n",
    "    for _ in range(runs):\n",
    "        logits = model(x)\n",
    "        if device.type == \"cuda\":\n",
    "            torch.cuda.synchronize()\n",
    "end = time.perf_counter()\n",
    "\n",
    "# 取最后一次结果做个pred展示\n",
    "pred = int(logits.argmax(dim=1))\n",
    "avg_ms = (end - start) * 1000.0 / runs\n",
    "fps = 1000.0 / avg_ms\n",
    "\n",
    "print(f\"pred class id: {pred}\")\n",
    "print(f\"input size: {tuple(x.shape)}\")\n",
    "print(f\"avg latency: {avg_ms:.3f} ms  |  FPS: {fps:.2f}\")\n"
   ]
  },
  {
   "cell_type": "code",
   "execution_count": 1,
   "id": "c03f4745-be7c-41f1-b9c9-7fe054a0d595",
   "metadata": {},
   "outputs": [
    {
     "name": "stderr",
     "output_type": "stream",
     "text": [
      "/home/ranxk/miniconda3/envs/repvit/lib/python3.10/site-packages/tqdm/auto.py:21: TqdmWarning: IProgress not found. Please update jupyter and ipywidgets. See https://ipywidgets.readthedocs.io/en/stable/user_install.html\n",
      "  from .autonotebook import tqdm as notebook_tqdm\n"
     ]
    },
    {
     "name": "stdout",
     "output_type": "stream",
     "text": [
      "Saved weights only to repvit_m1_0_weights_only.pth\n"
     ]
    }
   ],
   "source": [
    "import torch\n",
    "import timm\n",
    "\n",
    "model_name = \"repvit_m1_0\"   # 或其他如 repvit_m1_5 / repvit_m2_3\n",
    "model = timm.create_model(model_name, pretrained=True).eval()\n",
    "\n",
    "\n",
    "# 如果只想保存权重参数（推荐）\n",
    "torch.save(model.state_dict(), f\"{model_name}_weights_only.pth\")\n",
    "print(f\"Saved weights only to {model_name}_weights_only.pth\")\n"
   ]
  },
  {
   "cell_type": "code",
   "execution_count": 1,
   "id": "2b8b4ee5-6ab7-49d3-881e-d8b8e4789aab",
   "metadata": {},
   "outputs": [
    {
     "name": "stderr",
     "output_type": "stream",
     "text": [
      "/home/ranxk/miniconda3/envs/repvit/lib/python3.10/site-packages/tqdm/auto.py:21: TqdmWarning: IProgress not found. Please update jupyter and ipywidgets. See https://ipywidgets.readthedocs.io/en/stable/user_install.html\n",
      "  from .autonotebook import tqdm as notebook_tqdm\n"
     ]
    },
    {
     "name": "stdout",
     "output_type": "stream",
     "text": [
      "logits dim = 1000\n",
      "features dim = 448\n"
     ]
    }
   ],
   "source": [
    "import timm, torch\n",
    "model = timm.create_model(\"repvit_m1_0\", pretrained=True).eval()\n",
    "x = torch.zeros(1, 3, 224, 224)\n",
    "y = model(x)                 # 分类输出\n",
    "print(\"logits dim =\", y.shape[1])   # 通常是 1000\n",
    "\n",
    "# 如果想看倒数特征（forward_features + GAP）\n",
    "with torch.no_grad():\n",
    "    feats = model.forward_features(x)\n",
    "    if feats.ndim == 4: feats = feats.mean(dim=(2,3))\n",
    "print(\"features dim =\", feats.shape[1])  # 这是特征维度（与 num_features 一致）"
   ]
  },
  {
   "cell_type": "code",
   "execution_count": null,
   "id": "e98b2724-59e6-4826-94ba-cb717a7df04a",
   "metadata": {},
   "outputs": [],
   "source": []
  }
 ],
 "metadata": {
  "kernelspec": {
   "display_name": "Python 3 (ipykernel)",
   "language": "python",
   "name": "python3"
  },
  "language_info": {
   "codemirror_mode": {
    "name": "ipython",
    "version": 3
   },
   "file_extension": ".py",
   "mimetype": "text/x-python",
   "name": "python",
   "nbconvert_exporter": "python",
   "pygments_lexer": "ipython3",
   "version": "3.10.18"
  }
 },
 "nbformat": 4,
 "nbformat_minor": 5
}
